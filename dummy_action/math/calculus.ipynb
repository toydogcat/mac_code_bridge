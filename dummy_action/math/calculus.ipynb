{
 "cells": [
  {
   "cell_type": "code",
   "execution_count": null,
   "metadata": {},
   "outputs": [],
   "source": []
  },
  {
   "cell_type": "code",
   "execution_count": null,
   "metadata": {},
   "outputs": [],
   "source": []
  },
  {
   "cell_type": "markdown",
   "metadata": {},
   "source": [
    "# Env py311\n"
   ]
  },
  {
   "cell_type": "code",
   "execution_count": 5,
   "metadata": {},
   "outputs": [
    {
     "data": {
      "text/latex": [
       "$\\displaystyle a + \\frac{1}{2}$"
      ],
      "text/plain": [
       "a + 1/2"
      ]
     },
     "execution_count": 5,
     "metadata": {},
     "output_type": "execute_result"
    }
   ],
   "source": [
    "import sympy\n",
    "\n",
    "x = sympy.Symbol('x')\n",
    "a = sympy.Symbol('a')\n",
    "\n",
    "# sympy.integrate(sympy.sin(x), x)\n",
    "# sympy.integrate(x, x)\n",
    "\n",
    "sympy.integrate(x + a, (x, 0, 1))\n"
   ]
  },
  {
   "cell_type": "code",
   "execution_count": 59,
   "metadata": {},
   "outputs": [
    {
     "data": {
      "text/plain": [
       "[-0.00689621913580247,\n",
       " -0.0203993055555556,\n",
       " -0.0399305555555556,\n",
       " -0.222222222222222,\n",
       " 0,\n",
       " 2,\n",
       " 12,\n",
       " 42,\n",
       " 90,\n",
       " 210,\n",
       " 870,\n",
       " 3540,\n",
       " 8010,\n",
       " 32220,\n",
       " 132860]"
      ]
     },
     "execution_count": 59,
     "metadata": {},
     "output_type": "execute_result"
    }
   ],
   "source": [
    "g_0 = x\n",
    "g_1 = x + x**(1/2)\n",
    "g_2 = x + 1\n",
    "g_3 = 3*x - 1\n",
    "g_4 = 5*x - 5\n",
    "g_5 = 10*x - 10\n",
    "\n",
    "f_0 = (1.1) * (x ** 1.1)\n",
    "f_1 = (x ** 1.5)\n",
    "f_2 = (1/30) * (x ** 2 + 20*x)\n",
    "f_3 = (1/180) * (x ** 3 - 10*x**2) \n",
    "f_4 = (1/365) * (x ** 4 - 10*x**3 - 100*x**2) \n",
    "f_5 = (1/3650) * (x ** 5 - (2*x)**4 - (10*x)**3)\n",
    "\n",
    "function_list = [\n",
    "    g_1, g_2, g_3, g_4, g_5,\n",
    "    f_0, f_1, f_2, f_3, f_4, f_5\n",
    "]\n",
    "\n",
    "time_list = [\n",
    "    (x, 0, (1/24)*(1/6)),\n",
    "    (x, 0, (1/24)*(1/2)),\n",
    "    (x, 0, 1/24),\n",
    "    (x, 0, 1/3),\n",
    "    (x, 0, 1),\n",
    "    (x, 0, 2),\n",
    "    (x, 0, 4),\n",
    "    (x, 0, 7),\n",
    "    (x, 0, 10),\n",
    "    (x, 0, 15),\n",
    "    (x, 0, 30),\n",
    "    (x, 0, 60),\n",
    "    (x, 0, 90),\n",
    "    (x, 0, 180),\n",
    "    (x, 0, 365),\n",
    "]\n",
    "time_0 = time_list[1]\n",
    "# sympy.integrate(f, time_0) - sympy.integrate(x, time_0)\n",
    "\n",
    "function_diff_on_time = lambda _f, _time: sympy.integrate(_f, _time) - sympy.integrate(x, _time)\n",
    "list(map(function_diff_on_time, [g_3]*len(time_list), time_list))\n",
    "# function_diff_on_time(f, time_0)\n"
   ]
  },
  {
   "cell_type": "code",
   "execution_count": 64,
   "metadata": {},
   "outputs": [
    {
     "data": {
      "text/plain": [
       "array([[ 3.85802469e-04,  6.94444444e-03, -6.89621914e-03,\n",
       "        -3.46257716e-02, -6.92274306e-02, -8.74483814e-06,\n",
       "        -2.25051440e-05, -8.03383035e-06, -2.41188529e-05,\n",
       "        -2.41432545e-05, -2.41128136e-05],\n",
       "       [ 2.00468843e-03,  2.08333333e-02, -2.03993056e-02,\n",
       "        -1.03298611e-01, -2.06380208e-01, -6.26425070e-05,\n",
       "        -1.91955283e-04, -7.22374936e-05, -2.17181076e-04,\n",
       "        -2.17840953e-04, -2.17026795e-04],\n",
       "       [ 5.67011515e-03,  4.16666667e-02, -3.99305556e-02,\n",
       "        -2.04861111e-01, -4.08854167e-01, -2.06250954e-04,\n",
       "        -7.26302677e-04, -2.88548097e-04, -8.69390961e-04,\n",
       "        -8.74682338e-04, -8.68262109e-04],\n",
       "       [ 1.28300060e-01,  3.33333333e-01, -2.22222222e-01,\n",
       "        -1.44444444e+00, -2.83333333e+00, -3.40982509e-03,\n",
       "        -2.98955436e-02, -1.81069959e-02, -5.62242798e-02,\n",
       "        -5.90202379e-02, -5.64046952e-02],\n",
       "       [ 6.66666667e-01,  1.00000000e+00,  0.00000000e+00,\n",
       "        -3.00000000e+00, -5.50000000e+00,  2.38095238e-02,\n",
       "        -1.00000000e-01, -1.55555556e-01, -5.17129630e-01,\n",
       "        -5.97625571e-01, -5.69324201e-01],\n",
       "       [ 1.88561808e+00,  2.00000000e+00,  2.00000000e+00,\n",
       "        -2.00000000e+00, -2.00000000e+00,  2.45620588e-01,\n",
       "         2.62741700e-01, -5.77777778e-01, -2.12592593e+00,\n",
       "        -2.82264840e+00, -3.12102283e+00],\n",
       "       [ 5.33333333e+00,  4.00000000e+00,  1.20000000e+01,\n",
       "         1.20000000e+01,  3.20000000e+01,  1.62718621e+00,\n",
       "         4.80000000e+00, -1.95555556e+00, -8.82962963e+00,\n",
       "        -1.50370776e+01, -2.62449680e+01],\n",
       "       [ 1.23468395e+01,  7.00000000e+00,  4.20000000e+01,\n",
       "         6.30000000e+01,  1.50500000e+02,  6.68022713e+00,\n",
       "         2.73567257e+01, -4.35555556e+00, -2.75171296e+01,\n",
       "        -6.30600913e+01, -1.98314858e+02],\n",
       "       [ 2.10818511e+01,  1.00000000e+01,  9.00000000e+01,\n",
       "         1.50000000e+02,  3.50000000e+02,  1.59437120e+01,\n",
       "         7.64911064e+01, -5.55555556e+00, -5.46296296e+01,\n",
       "        -1.55022831e+02, -7.76940639e+02],\n",
       "       [ 3.87298335e+01,  1.50000000e+01,  2.10000000e+02,\n",
       "         3.75000000e+02,  8.62500000e+02,  4.20130034e+01,\n",
       "         2.36068501e+02,  0.00000000e+00, -1.04687500e+02,\n",
       "        -3.51369863e+02, -3.72559932e+03],\n",
       "       [ 1.09544512e+02,  3.00000000e+01,  8.70000000e+02,\n",
       "         1.65000000e+03,  3.75000000e+03,  2.12411747e+02,\n",
       "         1.52180121e+03,  1.50000000e+02,  1.75000000e+02,\n",
       "         4.85136986e+03, -4.39458904e+04],\n",
       "       [ 3.09838668e+02,  6.00000000e+01,  3.54000000e+03,\n",
       "         6.90000000e+03,  1.56000000e+04,  1.03982133e+03,\n",
       "         9.35419204e+03,  1.80000000e+03,  1.22000000e+04,\n",
       "         3.15789041e+05,  5.59208219e+05],\n",
       "       [ 5.69209979e+02,  9.00000000e+01,  8.01000000e+03,\n",
       "         1.57500000e+04,  3.55500000e+04,  2.60399791e+03,\n",
       "         2.66873389e+04,  6.75000000e+03,  7.35750000e+04,\n",
       "         2.71555274e+06,  1.45919281e+07],\n",
       "       [ 1.60996894e+03,  1.80000000e+02,  3.22200000e+04,\n",
       "         6.39000000e+04,  1.44000000e+05,  1.23263135e+04,\n",
       "         1.57676646e+05,  5.94000000e+04,  1.33380000e+06,\n",
       "         9.57990329e+07,  1.31549126e+09],\n",
       "       [ 4.64887681e+03,  3.65000000e+02,  1.32860000e+05,\n",
       "         2.64625000e+05,  5.95862500e+05,  5.92766803e+04,\n",
       "         9.51491520e+05,  5.18097222e+05,  2.36841361e+07,\n",
       "         3.42370487e+09,  1.01077086e+11]])"
      ]
     },
     "execution_count": 64,
     "metadata": {},
     "output_type": "execute_result"
    }
   ],
   "source": [
    "import numpy as np\n",
    "all_fun_diff_values = []\n",
    "\n",
    "for _fun in function_list:\n",
    "    sympy_list = list(map(function_diff_on_time, [_fun]*len(time_list), time_list))\n",
    "    all_fun_diff_values.append(list(map(float, sympy_list)))\n",
    "    \n",
    "\n",
    "np.array(all_fun_diff_values).T\n",
    "\n",
    "\n"
   ]
  },
  {
   "cell_type": "code",
   "execution_count": 67,
   "metadata": {},
   "outputs": [
    {
     "data": {
      "text/plain": [
       "11"
      ]
     },
     "execution_count": 67,
     "metadata": {},
     "output_type": "execute_result"
    }
   ],
   "source": [
    "len(np.array(all_fun_diff_values).T[0])"
   ]
  },
  {
   "cell_type": "code",
   "execution_count": 68,
   "metadata": {},
   "outputs": [],
   "source": [
    "# import pandas as pd\n",
    "\n",
    "pandas_data = {\n",
    "    \"function\": [\"g1-g0\", \"g2-g0\", \"g3-g0\", \"g4-g0\", \"g5-g0\", \"f0-g0\", \"f1-g0\", \"f2-g0\", \"f3-g0\", \"f4-g0\", \"f5-g0\"],\n",
    "    \"10 mins\": np.array(all_fun_diff_values).T[0],\n",
    "    \"30 mins\": np.array(all_fun_diff_values).T[1],\n",
    "    \"1 hour\": np.array(all_fun_diff_values).T[2],\n",
    "    \"8 hours\": np.array(all_fun_diff_values).T[3],\n",
    "    \"1 day\": np.array(all_fun_diff_values).T[4],\n",
    "    \"2 days\": np.array(all_fun_diff_values).T[5],\n",
    "    \"4 days\": np.array(all_fun_diff_values).T[6],\n",
    "    \"1 week (7d)\": np.array(all_fun_diff_values).T[7],\n",
    "    \"10 days\": np.array(all_fun_diff_values).T[8],\n",
    "    \"1/2 month (15d)\": np.array(all_fun_diff_values).T[9],\n",
    "    \"1 month (30d)\": np.array(all_fun_diff_values).T[10],\n",
    "    \"2 months (60d)\": np.array(all_fun_diff_values).T[11],\n",
    "    \"3 months (90d)\": np.array(all_fun_diff_values).T[12],\n",
    "    \"1/2 year (180d)\": np.array(all_fun_diff_values).T[13],\n",
    "    \"1 year (365d)\": np.array(all_fun_diff_values).T[14],\n",
    "}\n",
    "\n",
    "\n",
    "\n"
   ]
  },
  {
   "cell_type": "code",
   "execution_count": 63,
   "metadata": {},
   "outputs": [
    {
     "data": {
      "text/plain": [
       "15"
      ]
     },
     "execution_count": 63,
     "metadata": {},
     "output_type": "execute_result"
    }
   ],
   "source": [
    "len(time_list)"
   ]
  },
  {
   "cell_type": "code",
   "execution_count": null,
   "metadata": {},
   "outputs": [],
   "source": [
    "5400,       113487\n",
    "1333800,    23684136\n",
    "95799032,   3423704866\n",
    "1315491263, 101077085864"
   ]
  },
  {
   "cell_type": "code",
   "execution_count": null,
   "metadata": {},
   "outputs": [],
   "source": []
  },
  {
   "cell_type": "code",
   "execution_count": null,
   "metadata": {},
   "outputs": [],
   "source": [
    "# 對外提需求\n",
    "# zero shot learning\n",
    "# few shot learning\n",
    "# https://github.com/facebookresearch/segment-anything\n",
    "\n"
   ]
  },
  {
   "cell_type": "code",
   "execution_count": null,
   "metadata": {},
   "outputs": [],
   "source": []
  },
  {
   "cell_type": "code",
   "execution_count": null,
   "metadata": {},
   "outputs": [],
   "source": []
  },
  {
   "cell_type": "code",
   "execution_count": null,
   "metadata": {},
   "outputs": [],
   "source": []
  }
 ],
 "metadata": {
  "interpreter": {
   "hash": "aa8b3cbead5e461159fa2fb2f5a7e46bdd08a62de9ca5f7eea7208a6ef1a6704"
  },
  "kernelspec": {
   "display_name": "Python 3.11.5 ('py311')",
   "language": "python",
   "name": "python3"
  },
  "language_info": {
   "codemirror_mode": {
    "name": "ipython",
    "version": 3
   },
   "file_extension": ".py",
   "mimetype": "text/x-python",
   "name": "python",
   "nbconvert_exporter": "python",
   "pygments_lexer": "ipython3",
   "version": "3.11.5"
  },
  "orig_nbformat": 4
 },
 "nbformat": 4,
 "nbformat_minor": 2
}
